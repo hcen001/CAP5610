{
 "cells": [
  {
   "cell_type": "markdown",
   "metadata": {},
   "source": [
    "# CAP 5610 - Introduction to Machine Learning <br>Florida International University - Fall 2018\n",
    "## Example Set #1"
   ]
  },
  {
   "cell_type": "markdown",
   "metadata": {},
   "source": [
    "### Problem 1: The gradient\n",
    "\n",
    "Suppose that we have a vector, $\\mathbf{x} = \\begin{bmatrix} x_1 \\\\ x_2 \\end{bmatrix}$ and $\\mathbf{A} = \\begin{bmatrix} 2 & -1 \\\\ -1 & 1 \\end{bmatrix}$. If $f(\\mathbf{x}) = \\mathbf{x}^T \\mathbf{A} \\mathbf{x}$, what is $\\nabla f(x)$?"
   ]
  },
  {
   "cell_type": "code",
   "execution_count": 62,
   "metadata": {},
   "outputs": [
    {
     "data": {
      "text/latex": [
       "$$\\left[\\begin{matrix}x_{1}\\\\x_{2}\\end{matrix}\\right]$$"
      ],
      "text/plain": [
       "⎡x₁⎤\n",
       "⎢  ⎥\n",
       "⎣x₂⎦"
      ]
     },
     "execution_count": 62,
     "metadata": {},
     "output_type": "execute_result"
    }
   ],
   "source": [
    "from sympy import Symbol, Array, Matrix, Function, init_printing, Eq, simplify, expand, diff\n",
    "from sympy.tensor.array import derive_by_array\n",
    "init_printing(use_latex=True)\n",
    "\n",
    "x1 = Symbol('x1')\n",
    "x2 = Symbol('x2')\n",
    "x = Matrix([x1, x2])\n",
    "A = Matrix([[2, -1], [-1, 1]])\n",
    "x"
   ]
  },
  {
   "cell_type": "code",
   "execution_count": 63,
   "metadata": {},
   "outputs": [
    {
     "data": {
      "text/latex": [
       "$$\\left[\\begin{matrix}2 & -1\\\\-1 & 1\\end{matrix}\\right]$$"
      ],
      "text/plain": [
       "⎡2   -1⎤\n",
       "⎢      ⎥\n",
       "⎣-1  1 ⎦"
      ]
     },
     "execution_count": 63,
     "metadata": {},
     "output_type": "execute_result"
    }
   ],
   "source": [
    "A"
   ]
  },
  {
   "cell_type": "code",
   "execution_count": 64,
   "metadata": {},
   "outputs": [
    {
     "data": {
      "image/png": "[encoded data removed]",
      "text/latex": [
       "$$2 x_{1}^{2} - 2 x_{1} x_{2} + x_{2}^{2}$$"
      ],
      "text/plain": [
       "    2               2\n",
       "2⋅x₁  - 2⋅x₁⋅x₂ + x₂ "
      ]
     },
     "execution_count": 64,
     "metadata": {},
     "output_type": "execute_result"
    }
   ],
   "source": [
    "fx=expand(x.T*A*x)[0]\n",
    "fx"
   ]
  },
  {
   "cell_type": "code",
   "execution_count": 92,
   "metadata": {},
   "outputs": [
    {
     "data": {
      "text/latex": [
       "$$\\left[\\begin{matrix}4 x_{1} - 2 x_{2}\\\\- 2 x_{1} + 2 x_{2}\\end{matrix}\\right]$$"
      ],
      "text/plain": [
       "⎡4⋅x₁ - 2⋅x₂ ⎤\n",
       "⎢            ⎥\n",
       "⎣-2⋅x₁ + 2⋅x₂⎦"
      ]
     },
     "execution_count": 92,
     "metadata": {},
     "output_type": "execute_result"
    }
   ],
   "source": [
    "del_f = derive_by_array(fx, x).tomatrix()\n",
    "del_f"
   ]
  },
  {
   "cell_type": "markdown",
   "metadata": {},
   "source": [
    "### Problem 2: The hessian\n",
    "\n",
    "For $f(x)$ from problem 1, what is $\\nabla^2f(\\mathbf{x})$?"
   ]
  },
  {
   "cell_type": "code",
   "execution_count": 100,
   "metadata": {},
   "outputs": [
    {
     "data": {
      "text/latex": [
       "$$\\left[\\begin{matrix}4 & -2\\\\-2 & 2\\end{matrix}\\right]$$"
      ],
      "text/plain": [
       "⎡4   -2⎤\n",
       "⎢      ⎥\n",
       "⎣-2  2 ⎦"
      ]
     },
     "execution_count": 100,
     "metadata": {},
     "output_type": "execute_result"
    }
   ],
   "source": [
    "Matrix([derive_by_array(i, x) for i in del_f])"
   ]
  },
  {
   "cell_type": "markdown",
   "metadata": {},
   "source": [
    "### Problem 3: Eigen Values\n",
    "\n",
    "Let $\\mathbf{A} = \\begin{bmatrix} 2 & 6 \\\\6 & 18 \\end{bmatrix}$. Find the eigen values of A."
   ]
  },
  {
   "cell_type": "code",
   "execution_count": 71,
   "metadata": {},
   "outputs": [
    {
     "data": {
      "text/latex": [
       "$$\\left[\\begin{matrix}2 & 6\\\\6 & 18\\end{matrix}\\right]$$"
      ],
      "text/plain": [
       "⎡2  6 ⎤\n",
       "⎢     ⎥\n",
       "⎣6  18⎦"
      ]
     },
     "execution_count": 71,
     "metadata": {},
     "output_type": "execute_result"
    }
   ],
   "source": [
    "A = Matrix([[2, 6],[6, 18]])\n",
    "A"
   ]
  },
  {
   "cell_type": "code",
   "execution_count": 42,
   "metadata": {},
   "outputs": [
    {
     "data": {
      "image/png": "[encoded data removed]",
      "text/latex": [
       "$$\\left \\{ 0 : 1, \\quad 20 : 1\\right \\}$$"
      ],
      "text/plain": [
       "{0: 1, 20: 1}"
      ]
     },
     "execution_count": 42,
     "metadata": {},
     "output_type": "execute_result"
    }
   ],
   "source": [
    "A.eigenvals()"
   ]
  },
  {
   "cell_type": "markdown",
   "metadata": {},
   "source": [
    "### Problem 4: Eigen Vectors\n",
    "\n",
    "For the matrix $\\mathbf{A}$ from problem 3, what are the eigenvectors of A?"
   ]
  },
  {
   "cell_type": "code",
   "execution_count": 43,
   "metadata": {},
   "outputs": [
    {
     "data": {
      "text/latex": [
       "$$\\left [ \\left ( 0, \\quad 1, \\quad \\left [ \\left[\\begin{matrix}-3\\\\1\\end{matrix}\\right]\\right ]\\right ), \\quad \\left ( 20, \\quad 1, \\quad \\left [ \\left[\\begin{matrix}\\frac{1}{3}\\\\1\\end{matrix}\\right]\\right ]\\right )\\right ]$$"
      ],
      "text/plain": [
       "⎡⎛      ⎡⎡-3⎤⎤⎞  ⎛       ⎡⎡1/3⎤⎤⎞⎤\n",
       "⎢⎜0, 1, ⎢⎢  ⎥⎥⎟, ⎜20, 1, ⎢⎢   ⎥⎥⎟⎥\n",
       "⎣⎝      ⎣⎣1 ⎦⎦⎠  ⎝       ⎣⎣ 1 ⎦⎦⎠⎦"
      ]
     },
     "execution_count": 43,
     "metadata": {},
     "output_type": "execute_result"
    }
   ],
   "source": [
    "A.eigenvects()"
   ]
  },
  {
   "cell_type": "markdown",
   "metadata": {},
   "source": [
    "### Problem 5: PSD, PD, ND\n",
    "\n",
    "Is $\\mathbf{A}$ positive semi-definite? Positive definite? Negative definite? How do you know?"
   ]
  },
  {
   "cell_type": "markdown",
   "metadata": {},
   "source": [
    "The eigen values of $\\mathbf{A}$ are greater than or equal to zero."
   ]
  },
  {
   "cell_type": "code",
   "execution_count": null,
   "metadata": {},
   "outputs": [],
   "source": []
  }
 ],
 "metadata": {
  "kernelspec": {
   "display_name": "Python 3",
   "language": "python",
   "name": "python3"
  },
  "language_info": {
   "codemirror_mode": {
    "name": "ipython",
    "version": 3
   },
   "file_extension": ".py",
   "mimetype": "text/x-python",
   "name": "python",
   "nbconvert_exporter": "python",
   "pygments_lexer": "ipython3",
   "version": "3.6.5"
  }
 },
 "nbformat": 4,
 "nbformat_minor": 2
}
