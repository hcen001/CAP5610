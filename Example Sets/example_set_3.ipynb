{
 "cells": [
  {
   "cell_type": "markdown",
   "metadata": {},
   "source": [
    "# CAP 5610 - Introduction to Machine Learning <br>Florida International University - Fall 2018\n",
    "## Example Set #3 - Logistic Regression"
   ]
  },
  {
   "cell_type": "markdown",
   "metadata": {},
   "source": [
    "Here, we're using sklearn's [make_classification](http://scikit-learn.org/stable/modules/generated/sklearn.datasets.make_classification.html#sklearn.datasets.make_classification) function to generate a classification dataset that will be used to solve the problems below."
   ]
  },
  {
   "cell_type": "code",
   "execution_count": 7,
   "metadata": {},
   "outputs": [],
   "source": [
    "import numpy as np\n",
    "from matplotlib import pyplot as plt\n",
    "from sklearn import linear_model, datasets\n",
    "\n",
    "# number of samples to generate\n",
    "n_samples = 1000\n",
    "n_classes = 2\n",
    "\n",
    "# generate the dataset\n",
    "X, y = datasets.make_classification(n_samples, n_classes, n_informative=2, n_redundant=0)\n",
    "\n",
    "# how can we visualize the dataset?"
   ]
  },
  {
   "cell_type": "markdown",
   "metadata": {},
   "source": [
    "### Problem 1 - Logistic Regression with gradient ascent\n",
    "\n",
    "Develop a logistic regression model and train it using gradient ascent with the generated dataset."
   ]
  },
  {
   "cell_type": "markdown",
   "metadata": {},
   "source": [
    "### Problem 2 - Logistic Regression with Newton's method\n",
    "Based on your work from problem 1, train a logistic classifier with Newton's method with the same generated dataset and compare the result."
   ]
  },
  {
   "cell_type": "code",
   "execution_count": null,
   "metadata": {},
   "outputs": [],
   "source": []
  }
 ],
 "metadata": {
  "kernelspec": {
   "display_name": "Python 3",
   "language": "python",
   "name": "python3"
  },
  "language_info": {
   "codemirror_mode": {
    "name": "ipython",
    "version": 3
   },
   "file_extension": ".py",
   "mimetype": "text/x-python",
   "name": "python",
   "nbconvert_exporter": "python",
   "pygments_lexer": "ipython3",
   "version": "3.6.5"
  }
 },
 "nbformat": 4,
 "nbformat_minor": 2
}
