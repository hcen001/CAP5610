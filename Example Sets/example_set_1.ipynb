{
 "cells": [
  {
   "cell_type": "markdown",
   "metadata": {},
   "source": [
    "# CAP 5610 - Introduction to Machine Learning <br>Florida International University - Fall 2018\n",
    "## Example Set #1"
   ]
  },
  {
   "cell_type": "markdown",
   "metadata": {},
   "source": [
    "### Problem 1: The gradient\n",
    "\n",
    "Suppose that we have a vector, $\\mathbf{x} = \\begin{bmatrix} x_1 \\\\ x_2 \\end{bmatrix}$ and $\\mathbf{A} = \\begin{bmatrix} 2 & -1 \\\\ -1 & 1 \\end{bmatrix}$. If $f(\\mathbf{x}) = \\mathbf{x}^T \\mathbf{A} \\mathbf{x}$, what is $\\nabla f(x)$?"
   ]
  },
  {
   "cell_type": "code",
   "execution_count": null,
   "metadata": {},
   "outputs": [],
   "source": []
  },
  {
   "cell_type": "markdown",
   "metadata": {},
   "source": [
    "### Problem 2: The hessian\n",
    "\n",
    "For $f(x)$ from problem 1, what is $\\nabla^2f(\\mathbf{x})$?"
   ]
  },
  {
   "cell_type": "code",
   "execution_count": null,
   "metadata": {},
   "outputs": [],
   "source": []
  },
  {
   "cell_type": "markdown",
   "metadata": {},
   "source": [
    "### Problem 3: Eigen Values\n",
    "\n",
    "Let $\\mathbf{A} = \\begin{bmatrix} 2 & 6 \\\\6 & 18 \\end{bmatrix}$. Find the eigen values of A."
   ]
  },
  {
   "cell_type": "code",
   "execution_count": null,
   "metadata": {},
   "outputs": [],
   "source": []
  },
  {
   "cell_type": "markdown",
   "metadata": {},
   "source": [
    "### Problem 4: Eigen Vectors\n",
    "\n",
    "For the matrix $\\mathbf{A}$ from problem 3, what are the eigenvectors of A?"
   ]
  },
  {
   "cell_type": "code",
   "execution_count": null,
   "metadata": {},
   "outputs": [],
   "source": []
  },
  {
   "cell_type": "markdown",
   "metadata": {},
   "source": [
    "### Problem 5: PSD, PD, ND\n",
    "\n",
    "Is $\\mathbf{A}$ positive semi-definite? Positive definite? Negative definite? How do you know?"
   ]
  },
  {
   "cell_type": "code",
   "execution_count": null,
   "metadata": {},
   "outputs": [],
   "source": []
  }
 ],
 "metadata": {
  "kernelspec": {
   "display_name": "Python 3",
   "language": "python",
   "name": "python3"
  },
  "language_info": {
   "codemirror_mode": {
    "name": "ipython",
    "version": 3
   },
   "file_extension": ".py",
   "mimetype": "text/x-python",
   "name": "python",
   "nbconvert_exporter": "python",
   "pygments_lexer": "ipython3",
   "version": "3.6.5"
  }
 },
 "nbformat": 4,
 "nbformat_minor": 2
}
